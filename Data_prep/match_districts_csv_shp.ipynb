{
 "cells": [
  {
   "cell_type": "markdown",
   "id": "4ee0042e",
   "metadata": {},
   "source": [
    "### Match district names in `ICRISAT_allcrops.csv` to district names in shapefile\n",
    "\n",
    "Let us first load a shapefile of Indian districts in 2020. As we will see, district names in the shape file are marginally different from those in our agriculture data set `ICRISAT_allcrops.csv`. We will manually correct such discrepancies to ease our life going forward."
   ]
  },
  {
   "cell_type": "code",
   "execution_count": 1,
   "id": "fa317c29",
   "metadata": {},
   "outputs": [],
   "source": [
    "# Load relevant packages.\n",
    "import numpy as np\n",
    "import pandas as pd\n",
    "import geopandas as gpd\n",
    "import matplotlib.pyplot as plt"
   ]
  },
  {
   "cell_type": "markdown",
   "id": "884ef380",
   "metadata": {},
   "source": [
    "### 1. Load shapefile of Indian districts."
   ]
  },
  {
   "cell_type": "code",
   "execution_count": 2,
   "id": "9c5a5097",
   "metadata": {},
   "outputs": [],
   "source": [
    "# Load shapefile of Indian districts.\n",
    "shp = gpd.read_file('../Raw_data/India_districts2020.shp')"
   ]
  },
  {
   "cell_type": "code",
   "execution_count": 3,
   "id": "f2ee642c",
   "metadata": {},
   "outputs": [
    {
     "data": {
      "text/html": [
       "<div>\n",
       "<style scoped>\n",
       "    .dataframe tbody tr th:only-of-type {\n",
       "        vertical-align: middle;\n",
       "    }\n",
       "\n",
       "    .dataframe tbody tr th {\n",
       "        vertical-align: top;\n",
       "    }\n",
       "\n",
       "    .dataframe thead th {\n",
       "        text-align: right;\n",
       "    }\n",
       "</style>\n",
       "<table border=\"1\" class=\"dataframe\">\n",
       "  <thead>\n",
       "    <tr style=\"text-align: right;\">\n",
       "      <th></th>\n",
       "      <th>objectid</th>\n",
       "      <th>statecode</th>\n",
       "      <th>statename</th>\n",
       "      <th>state_ut</th>\n",
       "      <th>distcode</th>\n",
       "      <th>distname</th>\n",
       "      <th>distarea</th>\n",
       "      <th>totalpopul</th>\n",
       "      <th>totalhh</th>\n",
       "      <th>totpopmale</th>\n",
       "      <th>totpopfema</th>\n",
       "      <th>st_areasha</th>\n",
       "      <th>st_lengths</th>\n",
       "      <th>geometry</th>\n",
       "    </tr>\n",
       "  </thead>\n",
       "  <tbody>\n",
       "    <tr>\n",
       "      <th>0</th>\n",
       "      <td>1</td>\n",
       "      <td>05</td>\n",
       "      <td>Uttarakhand</td>\n",
       "      <td>STATE</td>\n",
       "      <td>066</td>\n",
       "      <td>Nainital</td>\n",
       "      <td>4251.0</td>\n",
       "      <td>954605.0</td>\n",
       "      <td>191383.0</td>\n",
       "      <td>493666.0</td>\n",
       "      <td>460939.0</td>\n",
       "      <td>5.322546e+09</td>\n",
       "      <td>506182.695952</td>\n",
       "      <td>POLYGON ((79.52659 29.05543, 79.52550 29.05545...</td>\n",
       "    </tr>\n",
       "    <tr>\n",
       "      <th>1</th>\n",
       "      <td>2</td>\n",
       "      <td>05</td>\n",
       "      <td>Uttarakhand</td>\n",
       "      <td>STATE</td>\n",
       "      <td>060</td>\n",
       "      <td>Dehradun</td>\n",
       "      <td>3088.0</td>\n",
       "      <td>1696694.0</td>\n",
       "      <td>347001.0</td>\n",
       "      <td>892199.0</td>\n",
       "      <td>804495.0</td>\n",
       "      <td>4.177236e+09</td>\n",
       "      <td>578188.681639</td>\n",
       "      <td>POLYGON ((77.87557 30.26052, 77.87467 30.26087...</td>\n",
       "    </tr>\n",
       "    <tr>\n",
       "      <th>2</th>\n",
       "      <td>3</td>\n",
       "      <td>05</td>\n",
       "      <td>Uttarakhand</td>\n",
       "      <td>STATE</td>\n",
       "      <td>064</td>\n",
       "      <td>Almora</td>\n",
       "      <td>3144.0</td>\n",
       "      <td>622506.0</td>\n",
       "      <td>140577.0</td>\n",
       "      <td>291081.0</td>\n",
       "      <td>331425.0</td>\n",
       "      <td>4.140751e+09</td>\n",
       "      <td>463454.225766</td>\n",
       "      <td>POLYGON ((79.28494 29.92735, 79.28495 29.92723...</td>\n",
       "    </tr>\n",
       "    <tr>\n",
       "      <th>3</th>\n",
       "      <td>4</td>\n",
       "      <td>05</td>\n",
       "      <td>Uttarakhand</td>\n",
       "      <td>STATE</td>\n",
       "      <td>065</td>\n",
       "      <td>Champawat</td>\n",
       "      <td>1766.0</td>\n",
       "      <td>259648.0</td>\n",
       "      <td>53953.0</td>\n",
       "      <td>131125.0</td>\n",
       "      <td>128523.0</td>\n",
       "      <td>2.294297e+09</td>\n",
       "      <td>314508.010612</td>\n",
       "      <td>POLYGON ((80.12479 29.01308, 80.12481 29.01306...</td>\n",
       "    </tr>\n",
       "    <tr>\n",
       "      <th>4</th>\n",
       "      <td>5</td>\n",
       "      <td>05</td>\n",
       "      <td>Uttarakhand</td>\n",
       "      <td>STATE</td>\n",
       "      <td>056</td>\n",
       "      <td>Uttarkashi</td>\n",
       "      <td>8016.0</td>\n",
       "      <td>330086.0</td>\n",
       "      <td>67602.0</td>\n",
       "      <td>168597.0</td>\n",
       "      <td>161489.0</td>\n",
       "      <td>1.085166e+10</td>\n",
       "      <td>786425.588972</td>\n",
       "      <td>POLYGON ((78.92267 31.25333, 78.93106 31.26840...</td>\n",
       "    </tr>\n",
       "  </tbody>\n",
       "</table>\n",
       "</div>"
      ],
      "text/plain": [
       "   objectid statecode    statename state_ut distcode    distname  distarea  \\\n",
       "0         1        05  Uttarakhand    STATE      066    Nainital    4251.0   \n",
       "1         2        05  Uttarakhand    STATE      060    Dehradun    3088.0   \n",
       "2         3        05  Uttarakhand    STATE      064      Almora    3144.0   \n",
       "3         4        05  Uttarakhand    STATE      065   Champawat    1766.0   \n",
       "4         5        05  Uttarakhand    STATE      056  Uttarkashi    8016.0   \n",
       "\n",
       "   totalpopul   totalhh  totpopmale  totpopfema    st_areasha     st_lengths  \\\n",
       "0    954605.0  191383.0    493666.0    460939.0  5.322546e+09  506182.695952   \n",
       "1   1696694.0  347001.0    892199.0    804495.0  4.177236e+09  578188.681639   \n",
       "2    622506.0  140577.0    291081.0    331425.0  4.140751e+09  463454.225766   \n",
       "3    259648.0   53953.0    131125.0    128523.0  2.294297e+09  314508.010612   \n",
       "4    330086.0   67602.0    168597.0    161489.0  1.085166e+10  786425.588972   \n",
       "\n",
       "                                            geometry  \n",
       "0  POLYGON ((79.52659 29.05543, 79.52550 29.05545...  \n",
       "1  POLYGON ((77.87557 30.26052, 77.87467 30.26087...  \n",
       "2  POLYGON ((79.28494 29.92735, 79.28495 29.92723...  \n",
       "3  POLYGON ((80.12479 29.01308, 80.12481 29.01306...  \n",
       "4  POLYGON ((78.92267 31.25333, 78.93106 31.26840...  "
      ]
     },
     "execution_count": 3,
     "metadata": {},
     "output_type": "execute_result"
    }
   ],
   "source": [
    "shp.head()"
   ]
  },
  {
   "cell_type": "code",
   "execution_count": 4,
   "id": "f9e122dc",
   "metadata": {},
   "outputs": [],
   "source": [
    "# Standardize state name across all data sets.\n",
    "shp.loc[shp.statename=='Chhatisgarh', 'statename'] = 'Chhattisgarh'"
   ]
  },
  {
   "cell_type": "markdown",
   "id": "412d69d5",
   "metadata": {},
   "source": [
    "### 2. Load crop yield data."
   ]
  },
  {
   "cell_type": "code",
   "execution_count": 5,
   "id": "0b3fc91b",
   "metadata": {},
   "outputs": [
    {
     "data": {
      "text/html": [
       "<div>\n",
       "<style scoped>\n",
       "    .dataframe tbody tr th:only-of-type {\n",
       "        vertical-align: middle;\n",
       "    }\n",
       "\n",
       "    .dataframe tbody tr th {\n",
       "        vertical-align: top;\n",
       "    }\n",
       "\n",
       "    .dataframe thead th {\n",
       "        text-align: right;\n",
       "    }\n",
       "</style>\n",
       "<table border=\"1\" class=\"dataframe\">\n",
       "  <thead>\n",
       "    <tr style=\"text-align: right;\">\n",
       "      <th></th>\n",
       "      <th>Dist Code</th>\n",
       "      <th>Year</th>\n",
       "      <th>State Code</th>\n",
       "      <th>State Name</th>\n",
       "      <th>Dist Name</th>\n",
       "      <th>RICE AREA (1000 ha)</th>\n",
       "      <th>RICE PRODUCTION (1000 tons)</th>\n",
       "      <th>RICE YIELD (Kg per ha)</th>\n",
       "      <th>WHEAT AREA (1000 ha)</th>\n",
       "      <th>WHEAT PRODUCTION (1000 tons)</th>\n",
       "      <th>WHEAT YIELD (Kg per ha)</th>\n",
       "      <th>GROUNDNUT AREA (1000 ha)</th>\n",
       "      <th>GROUNDNUT PRODUCTION (1000 tons)</th>\n",
       "      <th>GROUNDNUT YIELD (Kg per ha)</th>\n",
       "      <th>SUGARCANE AREA (1000 ha)</th>\n",
       "      <th>SUGARCANE PRODUCTION (1000 tons)</th>\n",
       "      <th>SUGARCANE YIELD (Kg per ha)</th>\n",
       "      <th>COTTON AREA (1000 ha)</th>\n",
       "      <th>COTTON PRODUCTION (1000 tons)</th>\n",
       "      <th>COTTON YIELD (Kg per ha)</th>\n",
       "    </tr>\n",
       "  </thead>\n",
       "  <tbody>\n",
       "    <tr>\n",
       "      <th>0</th>\n",
       "      <td>1</td>\n",
       "      <td>1990</td>\n",
       "      <td>14</td>\n",
       "      <td>Chhattisgarh</td>\n",
       "      <td>Durg</td>\n",
       "      <td>397.9</td>\n",
       "      <td>481.4</td>\n",
       "      <td>1210.0</td>\n",
       "      <td>18.2</td>\n",
       "      <td>13.4</td>\n",
       "      <td>736.0</td>\n",
       "      <td>3.3</td>\n",
       "      <td>2.8</td>\n",
       "      <td>848.0</td>\n",
       "      <td>0.02</td>\n",
       "      <td>0.0</td>\n",
       "      <td>0.0</td>\n",
       "      <td>0.00</td>\n",
       "      <td>0.0</td>\n",
       "      <td>0.0</td>\n",
       "    </tr>\n",
       "    <tr>\n",
       "      <th>1</th>\n",
       "      <td>1</td>\n",
       "      <td>1991</td>\n",
       "      <td>14</td>\n",
       "      <td>Chhattisgarh</td>\n",
       "      <td>Durg</td>\n",
       "      <td>393.2</td>\n",
       "      <td>508.6</td>\n",
       "      <td>1293.0</td>\n",
       "      <td>18.3</td>\n",
       "      <td>11.8</td>\n",
       "      <td>645.0</td>\n",
       "      <td>2.5</td>\n",
       "      <td>2.6</td>\n",
       "      <td>1040.0</td>\n",
       "      <td>0.08</td>\n",
       "      <td>0.1</td>\n",
       "      <td>1250.0</td>\n",
       "      <td>0.00</td>\n",
       "      <td>0.0</td>\n",
       "      <td>0.0</td>\n",
       "    </tr>\n",
       "    <tr>\n",
       "      <th>2</th>\n",
       "      <td>1</td>\n",
       "      <td>1992</td>\n",
       "      <td>14</td>\n",
       "      <td>Chhattisgarh</td>\n",
       "      <td>Durg</td>\n",
       "      <td>398.4</td>\n",
       "      <td>514.5</td>\n",
       "      <td>1291.0</td>\n",
       "      <td>17.1</td>\n",
       "      <td>10.7</td>\n",
       "      <td>626.0</td>\n",
       "      <td>1.6</td>\n",
       "      <td>2.3</td>\n",
       "      <td>1438.0</td>\n",
       "      <td>0.06</td>\n",
       "      <td>0.1</td>\n",
       "      <td>1667.0</td>\n",
       "      <td>0.01</td>\n",
       "      <td>0.0</td>\n",
       "      <td>0.0</td>\n",
       "    </tr>\n",
       "    <tr>\n",
       "      <th>3</th>\n",
       "      <td>1</td>\n",
       "      <td>1993</td>\n",
       "      <td>14</td>\n",
       "      <td>Chhattisgarh</td>\n",
       "      <td>Durg</td>\n",
       "      <td>410.2</td>\n",
       "      <td>569.1</td>\n",
       "      <td>1387.0</td>\n",
       "      <td>17.0</td>\n",
       "      <td>12.1</td>\n",
       "      <td>712.0</td>\n",
       "      <td>2.4</td>\n",
       "      <td>2.5</td>\n",
       "      <td>1042.0</td>\n",
       "      <td>0.04</td>\n",
       "      <td>0.1</td>\n",
       "      <td>2500.0</td>\n",
       "      <td>0.03</td>\n",
       "      <td>0.0</td>\n",
       "      <td>0.0</td>\n",
       "    </tr>\n",
       "    <tr>\n",
       "      <th>4</th>\n",
       "      <td>1</td>\n",
       "      <td>1994</td>\n",
       "      <td>14</td>\n",
       "      <td>Chhattisgarh</td>\n",
       "      <td>Durg</td>\n",
       "      <td>430.1</td>\n",
       "      <td>601.7</td>\n",
       "      <td>1399.0</td>\n",
       "      <td>17.5</td>\n",
       "      <td>14.2</td>\n",
       "      <td>811.0</td>\n",
       "      <td>1.1</td>\n",
       "      <td>1.1</td>\n",
       "      <td>1000.0</td>\n",
       "      <td>0.10</td>\n",
       "      <td>0.1</td>\n",
       "      <td>1000.0</td>\n",
       "      <td>0.00</td>\n",
       "      <td>0.0</td>\n",
       "      <td>0.0</td>\n",
       "    </tr>\n",
       "  </tbody>\n",
       "</table>\n",
       "</div>"
      ],
      "text/plain": [
       "   Dist Code  Year  State Code    State Name Dist Name  RICE AREA (1000 ha)  \\\n",
       "0          1  1990          14  Chhattisgarh      Durg                397.9   \n",
       "1          1  1991          14  Chhattisgarh      Durg                393.2   \n",
       "2          1  1992          14  Chhattisgarh      Durg                398.4   \n",
       "3          1  1993          14  Chhattisgarh      Durg                410.2   \n",
       "4          1  1994          14  Chhattisgarh      Durg                430.1   \n",
       "\n",
       "   RICE PRODUCTION (1000 tons)  RICE YIELD (Kg per ha)  WHEAT AREA (1000 ha)  \\\n",
       "0                        481.4                  1210.0                  18.2   \n",
       "1                        508.6                  1293.0                  18.3   \n",
       "2                        514.5                  1291.0                  17.1   \n",
       "3                        569.1                  1387.0                  17.0   \n",
       "4                        601.7                  1399.0                  17.5   \n",
       "\n",
       "   WHEAT PRODUCTION (1000 tons)  WHEAT YIELD (Kg per ha)  \\\n",
       "0                          13.4                    736.0   \n",
       "1                          11.8                    645.0   \n",
       "2                          10.7                    626.0   \n",
       "3                          12.1                    712.0   \n",
       "4                          14.2                    811.0   \n",
       "\n",
       "   GROUNDNUT AREA (1000 ha)  GROUNDNUT PRODUCTION (1000 tons)  \\\n",
       "0                       3.3                               2.8   \n",
       "1                       2.5                               2.6   \n",
       "2                       1.6                               2.3   \n",
       "3                       2.4                               2.5   \n",
       "4                       1.1                               1.1   \n",
       "\n",
       "   GROUNDNUT YIELD (Kg per ha)  SUGARCANE AREA (1000 ha)  \\\n",
       "0                        848.0                      0.02   \n",
       "1                       1040.0                      0.08   \n",
       "2                       1438.0                      0.06   \n",
       "3                       1042.0                      0.04   \n",
       "4                       1000.0                      0.10   \n",
       "\n",
       "   SUGARCANE PRODUCTION (1000 tons)  SUGARCANE YIELD (Kg per ha)  \\\n",
       "0                               0.0                          0.0   \n",
       "1                               0.1                       1250.0   \n",
       "2                               0.1                       1667.0   \n",
       "3                               0.1                       2500.0   \n",
       "4                               0.1                       1000.0   \n",
       "\n",
       "   COTTON AREA (1000 ha)  COTTON PRODUCTION (1000 tons)  \\\n",
       "0                   0.00                            0.0   \n",
       "1                   0.00                            0.0   \n",
       "2                   0.01                            0.0   \n",
       "3                   0.03                            0.0   \n",
       "4                   0.00                            0.0   \n",
       "\n",
       "   COTTON YIELD (Kg per ha)  \n",
       "0                       0.0  \n",
       "1                       0.0  \n",
       "2                       0.0  \n",
       "3                       0.0  \n",
       "4                       0.0  "
      ]
     },
     "execution_count": 5,
     "metadata": {},
     "output_type": "execute_result"
    }
   ],
   "source": [
    "# Load .csv file of agriculture data.\n",
    "df = pd.read_csv('../Raw_data/ICRISAT_allcrops.csv')\n",
    "\n",
    "df.head()"
   ]
  },
  {
   "cell_type": "code",
   "execution_count": 6,
   "id": "89ce1bee",
   "metadata": {},
   "outputs": [
    {
     "name": "stdout",
     "output_type": "stream",
     "text": [
      "No. of unique district names in .csv file = 574\n"
     ]
    }
   ],
   "source": [
    "# Districts in df\n",
    "df_distname = np.unique(df['Dist Name'])\n",
    "print('No. of unique district names in .csv file = %d'% (len(df_distname)))"
   ]
  },
  {
   "cell_type": "markdown",
   "id": "bd92dff5",
   "metadata": {},
   "source": [
    "### 3. Building a unique identifier for catalog cross-matching"
   ]
  },
  {
   "cell_type": "markdown",
   "id": "3b8b3daf",
   "metadata": {},
   "source": [
    "Can we use district name as an identifier to connect rows in our crop yield data to polygons in our shapefile?"
   ]
  },
  {
   "cell_type": "code",
   "execution_count": 7,
   "id": "bd39e346",
   "metadata": {},
   "outputs": [
    {
     "name": "stdout",
     "output_type": "stream",
     "text": [
      "No. of unique district names in shapefile = 686\n"
     ]
    }
   ],
   "source": [
    "# Districts in shp\n",
    "shp_distname, shp_dist_counts = np.unique(shp['distname'], return_counts=True)\n",
    "print('No. of unique district names in shapefile = %d'% (len(shp_distname)))"
   ]
  },
  {
   "cell_type": "code",
   "execution_count": 8,
   "id": "89139ca9",
   "metadata": {
    "scrolled": true
   },
   "outputs": [
    {
     "name": "stdout",
     "output_type": "stream",
     "text": [
      "Max count of any individual district name in shape file = 2\n"
     ]
    }
   ],
   "source": [
    "print('Max count of any individual district name in shape file = %d'% (np.max(shp_dist_counts)))"
   ]
  },
  {
   "cell_type": "code",
   "execution_count": 9,
   "id": "d4c6d348",
   "metadata": {},
   "outputs": [
    {
     "data": {
      "text/plain": [
       "array(['Aurangabad', 'Balrampur', 'Bijapur', 'Bilaspur', 'Hamirpur',\n",
       "       'Pratapgarh', 'Raigarh'], dtype=object)"
      ]
     },
     "execution_count": 9,
     "metadata": {},
     "output_type": "execute_result"
    }
   ],
   "source": [
    "shp_distname[np.where(shp_dist_counts==2)]"
   ]
  },
  {
   "cell_type": "code",
   "execution_count": 10,
   "id": "283745ac",
   "metadata": {},
   "outputs": [
    {
     "data": {
      "text/html": [
       "<div>\n",
       "<style scoped>\n",
       "    .dataframe tbody tr th:only-of-type {\n",
       "        vertical-align: middle;\n",
       "    }\n",
       "\n",
       "    .dataframe tbody tr th {\n",
       "        vertical-align: top;\n",
       "    }\n",
       "\n",
       "    .dataframe thead th {\n",
       "        text-align: right;\n",
       "    }\n",
       "</style>\n",
       "<table border=\"1\" class=\"dataframe\">\n",
       "  <thead>\n",
       "    <tr style=\"text-align: right;\">\n",
       "      <th></th>\n",
       "      <th>objectid</th>\n",
       "      <th>statecode</th>\n",
       "      <th>statename</th>\n",
       "      <th>state_ut</th>\n",
       "      <th>distcode</th>\n",
       "      <th>distname</th>\n",
       "      <th>distarea</th>\n",
       "      <th>totalpopul</th>\n",
       "      <th>totalhh</th>\n",
       "      <th>totpopmale</th>\n",
       "      <th>totpopfema</th>\n",
       "      <th>st_areasha</th>\n",
       "      <th>st_lengths</th>\n",
       "      <th>geometry</th>\n",
       "    </tr>\n",
       "  </thead>\n",
       "  <tbody>\n",
       "    <tr>\n",
       "      <th>250</th>\n",
       "      <td>218</td>\n",
       "      <td>10</td>\n",
       "      <td>Bihar</td>\n",
       "      <td>STATE</td>\n",
       "      <td>235</td>\n",
       "      <td>Aurangabad</td>\n",
       "      <td>3305.0</td>\n",
       "      <td>2540073.0</td>\n",
       "      <td>391898.0</td>\n",
       "      <td>1318684.0</td>\n",
       "      <td>1221389.0</td>\n",
       "      <td>4.239872e+09</td>\n",
       "      <td>404564.103599</td>\n",
       "      <td>POLYGON ((84.61118 24.61312, 84.61133 24.61285...</td>\n",
       "    </tr>\n",
       "    <tr>\n",
       "      <th>330</th>\n",
       "      <td>354</td>\n",
       "      <td>27</td>\n",
       "      <td>Maharashtra</td>\n",
       "      <td>STATE</td>\n",
       "      <td>515</td>\n",
       "      <td>Aurangabad</td>\n",
       "      <td>10107.0</td>\n",
       "      <td>3701282.0</td>\n",
       "      <td>751915.0</td>\n",
       "      <td>1924469.0</td>\n",
       "      <td>1776813.0</td>\n",
       "      <td>1.166568e+10</td>\n",
       "      <td>759012.265374</td>\n",
       "      <td>POLYGON ((74.67514 19.93563, 74.67490 19.93571...</td>\n",
       "    </tr>\n",
       "  </tbody>\n",
       "</table>\n",
       "</div>"
      ],
      "text/plain": [
       "     objectid statecode    statename state_ut distcode    distname  distarea  \\\n",
       "250       218        10        Bihar    STATE      235  Aurangabad    3305.0   \n",
       "330       354        27  Maharashtra    STATE      515  Aurangabad   10107.0   \n",
       "\n",
       "     totalpopul   totalhh  totpopmale  totpopfema    st_areasha  \\\n",
       "250   2540073.0  391898.0   1318684.0   1221389.0  4.239872e+09   \n",
       "330   3701282.0  751915.0   1924469.0   1776813.0  1.166568e+10   \n",
       "\n",
       "        st_lengths                                           geometry  \n",
       "250  404564.103599  POLYGON ((84.61118 24.61312, 84.61133 24.61285...  \n",
       "330  759012.265374  POLYGON ((74.67514 19.93563, 74.67490 19.93571...  "
      ]
     },
     "execution_count": 10,
     "metadata": {},
     "output_type": "execute_result"
    }
   ],
   "source": [
    "shp[shp.distname=='Aurangabad']"
   ]
  },
  {
   "cell_type": "markdown",
   "id": "cbf23051",
   "metadata": {},
   "source": [
    "It turns out that there are two districts named `Aurangabad`, one in Bihar and one in Maharashtra. So, district name alone cannot serve as a unique identifier. Let's build a column of strings combining `distname` and `statename`."
   ]
  },
  {
   "cell_type": "code",
   "execution_count": 11,
   "id": "7c8de361",
   "metadata": {},
   "outputs": [],
   "source": [
    "shp['dist_state'] = shp['distname'] + ', ' + shp['statename']"
   ]
  },
  {
   "cell_type": "code",
   "execution_count": 12,
   "id": "8ca13828",
   "metadata": {},
   "outputs": [
    {
     "name": "stdout",
     "output_type": "stream",
     "text": [
      "No. of districts in shapefile = 693\n"
     ]
    }
   ],
   "source": [
    "shp_diststate, shp_diststate_counts = np.unique(shp['dist_state'], return_counts=True) \n",
    "print('No. of districts in shapefile = %d'% (len(shp_diststate)))"
   ]
  },
  {
   "cell_type": "code",
   "execution_count": 13,
   "id": "5bb0150b",
   "metadata": {},
   "outputs": [
    {
     "name": "stdout",
     "output_type": "stream",
     "text": [
      "Max count of any individual district + state combo in shape file = 1\n"
     ]
    }
   ],
   "source": [
    "print('Max count of any individual district + state combo in shape file = %d'% (np.max(shp_diststate_counts)))"
   ]
  },
  {
   "cell_type": "code",
   "execution_count": 14,
   "id": "76157a7e",
   "metadata": {},
   "outputs": [
    {
     "name": "stdout",
     "output_type": "stream",
     "text": [
      "No. of districts in crop yield data set = 579\n"
     ]
    }
   ],
   "source": [
    "# Building dist-state in df.\n",
    "df['dist_state'] = df['Dist Name'] + ', ' + df['State Name']\n",
    "df_diststate, df_diststate_counts = np.unique(df['dist_state'], return_counts=True)\n",
    "print('No. of districts in crop yield data set = %d'% (len(df_diststate)))"
   ]
  },
  {
   "cell_type": "markdown",
   "id": "13756106",
   "metadata": {},
   "source": [
    "### 4. Correcting misspellings of district names in shapefile"
   ]
  },
  {
   "cell_type": "markdown",
   "id": "af4db0f2",
   "metadata": {},
   "source": [
    "Let's look for identifier values in our `.csv` file of crop yield data that lack a case-insensitive counterpart in the shapefile."
   ]
  },
  {
   "cell_type": "code",
   "execution_count": 15,
   "id": "ab6733c5",
   "metadata": {},
   "outputs": [
    {
     "name": "stdout",
     "output_type": "stream",
     "text": [
      "Total no. of district + state combos apparently missing in shapefile = 158\n"
     ]
    }
   ],
   "source": [
    "missing_diststates = []\n",
    "\n",
    "for dist in df_diststate:\n",
    "    if dist not in shp_diststate:\n",
    "        missing_diststates.append(dist)\n",
    "print('Total no. of district + state combos apparently missing in shapefile = %d'% (len(missing_diststates)))        "
   ]
  },
  {
   "cell_type": "markdown",
   "id": "dce9a86d",
   "metadata": {},
   "source": [
    "Are these 169 district + state combos really not in the shapefile? For example, let's check for `Ahmedabad` in the shapefile."
   ]
  },
  {
   "cell_type": "code",
   "execution_count": 16,
   "id": "d70212e4",
   "metadata": {},
   "outputs": [
    {
     "name": "stdout",
     "output_type": "stream",
     "text": [
      "Adilabad, Telangana\n",
      "Agra, Uttar Pradesh\n",
      "Ahmadabad, Gujarat\n",
      "Ahmadnagar, Maharashtra\n",
      "Aizawl, Mizoram\n",
      "Ajmer, Rajasthan\n",
      "Akola, Maharashtra\n",
      "Alappuzha, Kerala\n",
      "Aligarh, Uttar Pradesh\n",
      "Alirajpur, Madhya Pradesh\n"
     ]
    }
   ],
   "source": [
    "print(*list(shp_diststate[:10]), sep='\\n')"
   ]
  },
  {
   "cell_type": "markdown",
   "id": "049c3632",
   "metadata": {},
   "source": [
    "It turns out that our shapefile contains a district `Ahmadabad`, which is just an alternate spelling of Ahmedabad. Let's construct a dictionary matching district + state combos in the shapefile to those in our `.csv` file."
   ]
  },
  {
   "cell_type": "code",
   "execution_count": 17,
   "id": "3aef46ad",
   "metadata": {},
   "outputs": [],
   "source": [
    "# Dictionary matching shapefile dist-states to corresponding entries in .csv file of crop yield data.\n",
    "dict_matches = {'North Twenty Four Parganas, West Bengal': '24 - Paraganas North, West Bengal',\n",
    "                'South Twenty Four Parganas, West Bengal': '24 - Paraganas South, West Bengal',\n",
    "                'Ahmadabad, Gujarat': 'Ahmedabad, Gujarat',\n",
    "                'Ahmadnagar, Maharashtra': 'Ahmednagar, Maharashtra',\n",
    "                'Almora, Uttarakhand': 'Almorah, Uttarakhand',\n",
    "                'Amravati, Maharashtra': 'Amarawati, Maharashtra',\n",
    "                'Amethi, Uttar Pradesh': 'Amethi C.S.M.Nagar, Uttar Pradesh',\n",
    "                'Jyotiba Phule Nagar, Uttar Pradesh': 'Amroha J.B.Fulenagar, Uttar Pradesh',\n",
    "                'Anugul, Orissa': 'Angul, Orissa',\n",
    "                'Aravali, Gujarat':'Aravalli, Gujarat',\n",
    "                'Bagalkot, Karnataka': 'Bagalkote, Karnataka',\n",
    "                'Baghpat, Uttar Pradesh': 'Bagpat, Uttar Pradesh',\n",
    "                'Baleshwar, Orissa': 'Balasore, Orissa',\n",
    "                'Banas Kantha, Gujarat': 'Banaskantha, Gujarat',\n",
    "                'Bangalore Rural, Karnataka': 'Bangalore(Rural), Karnataka',\n",
    "                'Bangalore, Karnataka': 'Bangalore(Urban), Karnataka',\n",
    "                'Bara Banki, Uttar Pradesh': 'Barabanki, Uttar Pradesh',\n",
    "                'Bilaspur, Himachal Pradesh': 'Bilashpur, Himachal Pradesh',\n",
    "                'Bid, Maharashtra': 'Beed, Maharashtra',\n",
    "                'Kaimur (Bhabua), Bihar': 'Bhabhua Kaimur, Bihar',\n",
    "                'Bhadradri, Telangana':'Bhadradri Kothagudam, Telangana',\n",
    "                'Bathinda, Punjab': 'Bhatinda, Punjab',\n",
    "                'Balangir, Orissa': 'Bolangir, Orissa',\n",
    "                'Batod, Gujarat':'Botad, Gujarat',\n",
    "                'Baudh, Orissa': 'Boudh, Orissa',\n",
    "                'Bulandshahr, Uttar Pradesh': 'Buland Shahar, Uttar Pradesh',\n",
    "                'Buldana, Maharashtra': 'Buldhana, Maharashtra',\n",
    "                'Barddhaman, West Bengal': 'Burdwan, West Bengal',\n",
    "                'Chamarajanagar, Karnataka': 'Chamaraja Nagar, Karnataka',\n",
    "                'Purba Champaran, Bihar': 'Champaran(East), Bihar',\n",
    "                'Pashchim Champaran, Bihar': 'Champaran(West, Bihar',\n",
    "                'Champawat, Uttarakhand': 'Champavat, Uttarakhand',\n",
    "                'Kancheepuram, Tamil Nadu': 'Chengalpattu MGR Kancheepuram, Tamil Nadu',\n",
    "                'Chikmagalur, Karnataka': 'Chickmagalur, Karnataka',\n",
    "                'Thoothukkudi, Tamil Nadu': 'Chidambanar Toothukudi, Tamil Nadu',\n",
    "                'Chikkaballapura, Karnataka': 'Chikkaballapur, Karnataka',\n",
    "                'Chittaurgarh, Rajasthan': 'Chittorgarh, Rajasthan',\n",
    "                'Koch Bihar, West Bengal':'Cooch Behar, West Bengal',\n",
    "                'Dohad, Gujarat': 'Dahod, Gujarat',\n",
    "                'The Dangs, Gujarat': 'Dangs, Gujarat',\n",
    "                'Dakshin Bastar Dantewada, Chhattisgarh': 'Dantewara, Chhattisgarh',\n",
    "                'Darjiling, West Bengal':'Darjeeling, West Bengal',\n",
    "                'Debagarh, Orissa': 'Deogarh, Orissa',\n",
    "                'Devbhumi Dwarka, Gujarat': 'Devbhoomi Dwarka, Gujarat',\n",
    "                'Deoghar, Jharkhand': 'Devghar Deogarh, Jharkhand',\n",
    "                'Dhaulpur, Rajasthan': 'Dholpur, Rajasthan',\n",
    "                'Dindigul, Tamil Nadu': 'Dindigul Anna, Tamil Nadu',\n",
    "                'Purba Medinipur, West Bengal':'East Midnapore Purba Midnapore, West Bengal',                \n",
    "                'Ernakulam, Kerala': 'Eranakulam, Kerala',\n",
    "                'Firozpur, Punjab': 'Ferozpur, Punjab',\n",
    "                'Gautam Buddha Nagar, Uttar Pradesh': 'G.B.Nagar, Uttar Pradesh',\n",
    "                'Garhwa, Jharkhand': 'Gadva Garhwa, Jharkhand',\n",
    "                'Gondiya, Maharashtra': 'Gondia, Maharashtra',\n",
    "                'Hardwar, Uttarakhand': 'Haridwar, Uttarakhand',\n",
    "                'Mahamaya Nagar, Uttar Pradesh': 'Hathras, Uttar Pradesh',\n",
    "                'Hisar, Haryana': 'Hissar, Haryana',\n",
    "                'Hugli, West Bengal': 'Hooghly, West Bengal',\n",
    "                'Haora, West Bengal':'Howrah, West Bengal',\n",
    "                'Hydrabad, Telangana': 'Hyderabad, Telangana',\n",
    "                'Jagtial, Telangana': 'Jagityal, Telangana',\n",
    "                'Jalor, Rajasthan':'Jalore, Rajasthan',\n",
    "                'Jangaon, Telangana': 'Janagaon, Telangana',\n",
    "                'Janjgir-Champa, Chhattisgarh': 'Janjgir, Chhattisgarh',\n",
    "                'Jayashankar, Telangana': 'Jayashankar Bhuppaly, Telangana',\n",
    "                'Jhunjhunun, Rajasthan': 'Jhunjhunu, Rajasthan',\n",
    "                'Jogulamba, Telangana': 'Jogulamba Gadwal, Telangana',\n",
    "                'Kadapa(YSR), Andhra Pradesh': 'Kadapa YSR, Andhra Pradesh',\n",
    "                'Kamrup Metropolitan, Assam':'Kamrup(Metro), Assam',\n",
    "                'Uttar Bastar Kanker, Chhattisgarh': 'Kanker, Chhattisgarh',\n",
    "                'Kanniyakumari, Tamil Nadu': 'Kanyakumari, Tamil Nadu',\n",
    "                'Karauli, Rajasthan': 'Karoli, Rajasthan',\n",
    "                'Kanshiram Nagar, Uttar Pradesh': 'Kasganj Khansi Ram Nagar, Uttar Pradesh',\n",
    "                'Kabeerdham, Chhattisgarh': 'Kawardha, Chhattisgarh',\n",
    "                'Kendujhar, Orissa': 'Keonjhar, Orissa',\n",
    "                'Khandwa (East Nimar), Madhya Pradesh': 'Khandwa, Madhya Pradesh',\n",
    "                'Khargone (West Nimar), Madhya Pradesh': 'Khargone, Madhya Pradesh',\n",
    "                'Kodarma, Jharkhand': 'Khodrama Koderma, Jharkhand',\n",
    "                'Khordha, Orissa': 'Khurda, Orissa',\n",
    "                'Komaram Bheem, Telangana': 'Kumurambheem Asifabad, Telangana',\n",
    "                'Kaushambi, Uttar Pradesh': 'Kushambi, Uttar Pradesh',\n",
    "                'Kushinagar, Uttar Pradesh': 'Kushi Nagar Padrauna, Uttar Pradesh',\n",
    "                'Kachchh, Gujarat':'Kutch, Gujarat',\n",
    "                'Lohardaga, Jharkhand': 'Lohardagga, Jharkhand',\n",
    "                'Mancherial, Telangana':'Macherial, Telangana',\n",
    "                'Mahasamund, Chhattisgarh': 'Mahasmund, Chhattisgarh',\n",
    "                'Mahisagar, Gujarat':'Mahi Sagar, Gujarat',\n",
    "                'Mahrajganj, Uttar Pradesh': 'Mahrajgani, Uttar Pradesh',\n",
    "                'Maldah, West Bengal':'Malda, West Bengal',\n",
    "                'Medchal, Telangana':'Malkaigiri, Telangana',\n",
    "                'Morigaon, Assam': 'Marigaon, Assam',\n",
    "                'Mayurbhanj, Orissa': 'Mayurbhanja, Orissa',\n",
    "                'Mahesana, Gujarat': 'Mehsana, Gujarat',\n",
    "                'Paschim Medinipur, West Bengal':'West Midnapore, West Bengal',\n",
    "                'Mirzapur, Uttar Pradesh': 'Mirzpur, Uttar Pradesh',\n",
    "                'Mumbai, Maharashtra': 'Mumbai City, Maharashtra',\n",
    "                'Mumbai Suburban, Maharashtra': 'Mumbai sub, Maharashtra',\n",
    "                'Munger, Bihar': 'Mungair, Bihar',\n",
    "                'Mungeli, Chhattisgarh': 'Mungli, Chhattisgarh',\n",
    "                'Narsimhapur, Madhya Pradesh': 'Narsinghpur, Madhya Pradesh',\n",
    "                'Nashik, Maharashtra': 'Nasik, Maharashtra',\n",
    "                'Nabarangapur, Orissa': 'Nawarangpur, Orissa',\n",
    "                'Vellore, Tamil Nadu': 'North Arcot Vellore, Tamil Nadu',\n",
    "                'Dima Hasao, Assam': 'North Cachar Hil, Assam',\n",
    "                'Pakur, Jharkhand': 'Pakund Pakur, Jharkhand',\n",
    "                'Palamu, Jharkhand': 'Palamau, Jharkhand',\n",
    "                'Panch Mahals, Gujarat': 'Panchmahal, Gujarat',\n",
    "                'Peddapalli, Telangana': 'Peddapally, Telangana',\n",
    "                'Perambalur, Tamil Nadu': 'Perambular, Tamil Nadu',\n",
    "                'Erode, Tamil Nadu': 'Periyar(Erode), Tamil Nadu',\n",
    "                'Kandhamal, Orissa': 'Phulbani(Kandhamal), Orissa',\n",
    "                'Pithoragarh, Uttarakhand': 'Pithorgarh, Uttarakhand',\n",
    "                'Purnia, Bihar': 'Purnea, Bihar',\n",
    "                'Puruliya, West Bengal':'Purulia, West Bengal',\n",
    "                'Rae Bareli, Uttar Pradesh': 'Rae - Bareily, Uttar Pradesh',\n",
    "                'Raigarh, Maharashtra': 'Raigad, Maharashtra',\n",
    "                'Rajanna Sircilla, Telangana':'Rajanna Siricilla, Telangana',\n",
    "                'Ramanagara, Karnataka': 'Ramanagaram, Karnataka',\n",
    "                'Ramanathapuram, Tamil Nadu': 'Ramananthapuram, Tamil Nadu',\n",
    "                'Ramgarh, Jharkhand': 'Ramgadh, Jharkhand',\n",
    "                'Rupnagar, Punjab': 'Roopnagar, Punjab',\n",
    "                'Sahibzada Ajit Singh Nagar, Punjab': 'S.A.S Nagar, Punjab',\n",
    "                'Shahid Bhagat Singh Nagar, Punjab': 'S.B.S Nagar, Punjab',\n",
    "                'Sri Potti Sriramulu Nellore, Andhra Pradesh': 'S.P.S.Nellore, Andhra Pradesh',\n",
    "                'Sabar Kantha, Gujarat': 'Sabarkantha, Gujarat',\n",
    "                'Sahibganj, Jharkhand': 'Sahebganj, Jharkhand',\n",
    "                'Sant Kabir Nagar, Uttar Pradesh': 'Santh Kabir Nagar, Uttar Pradesh',\n",
    "                'Sant Ravidas Nagar (Bhadohi), Uttar Pradesh': 'Santh Ravi Das Nagar Bhadoi, Uttar Pradesh',\n",
    "                'Dumka, Jharkhand': 'Santhal Paragana Dumka, Jharkhand',\n",
    "                'Saraikela-Kharsawan, Jharkhand': 'Sariakela Kharsawan, Jharkhand',\n",
    "                'Samli, Uttar Pradesh': 'Shamli, Uttar Pradesh',\n",
    "                'Sheikhpura, Bihar': 'Sheikapura, Bihar',\n",
    "                'Sheopur, Madhya Pradesh': 'Sheopur Kalan, Madhya Pradesh',\n",
    "                'Shimoga, Karnataka': 'Shimoge, Karnataka',\n",
    "                'Shrawasti, Uttar Pradesh': 'Shravasti, Uttar Pradesh',\n",
    "                'Muktsar, Punjab': 'Shri Mukatsar Sahib, Punjab',\n",
    "                'Sivasagar, Assam': 'Sibsagar, Assam',\n",
    "                'Siddharthnagar, Uttar Pradesh': 'Sidharthnagar, Uttar Pradesh',\n",
    "                'Purbi Singhbhum, Jharkhand': 'Singhbhum East, Jharkhand',\n",
    "                'Pashchimi Singhbhum, Jharkhand': 'Singhbhum West, Jharkhand',\n",
    "                'Sivaganga, Tamil Nadu': 'Sivagangai Pasumpon, Tamil Nadu',\n",
    "                'Sonipat, Haryana': 'Sonepat, Haryana',\n",
    "                'Subarnapur, Orissa': 'Sonepur, Orissa',\n",
    "                'Cuddalore, Tamil Nadu': 'South Arcot Cuddalore, Tamil Nadu',\n",
    "                'Sawai Madhopur, Rajasthan': 'Swami Madhopur, Rajasthan',\n",
    "                'Tarn Taran, Punjab': 'Taran Taran, Punjab',\n",
    "                'Tirunelveli, Tamil Nadu': 'Thirunelveli, Tamil Nadu',\n",
    "                'Tiruppur, Tamil Nadu': 'Thiruppur, Tamil Nadu',\n",
    "                'Tiruvannamalai, Tamil Nadu': 'Thiruvannamalai, Tamil Nadu',\n",
    "                'Tiruchirappalli, Tamil Nadu': 'Tiruchirapalli Trichy, Tamil Nadu',\n",
    "                'Thiruvarur, Tamil Nadu': 'Tiruvarur, Tamil Nadu',\n",
    "                'Uttarkashi, Uttarakhand': 'Uttar Kashi, Uttarakhand',\n",
    "                'Viluppuram, Tamil Nadu': 'Villupuram, Tamil Nadu',\n",
    "                'Virudhunagar, Tamil Nadu': 'Virudhunagar Kamarajar, Tamil Nadu',\n",
    "                'Warangal (R), Telangana': 'Warangal, Telangana',\n",
    "                'Warangal (U), Telangana': 'Warangal Urban, Telangana',\n",
    "                'Yadadri, Telangana':'Yadadri Bhuvanagiri, Telangana',\n",
    "                'Yadgir, Karnataka': 'Yadagiri, Karnataka',\n",
    "                'Yavatmal, Maharashtra': 'Yeotmal, Maharashtra'}"
   ]
  },
  {
   "cell_type": "code",
   "execution_count": 18,
   "id": "6c687c47",
   "metadata": {},
   "outputs": [
    {
     "name": "stdout",
     "output_type": "stream",
     "text": [
      "Replacement complete\n"
     ]
    }
   ],
   "source": [
    "# Replace district names in shp.\n",
    "for key in dict_matches.keys():\n",
    "    shp.loc[shp['dist_state']==key, 'dist_state'] = dict_matches[key]\n",
    "print('Replacement complete')"
   ]
  },
  {
   "cell_type": "code",
   "execution_count": 19,
   "id": "c4a94707",
   "metadata": {},
   "outputs": [
    {
     "name": "stdout",
     "output_type": "stream",
     "text": [
      "Total no. of identifiers apparently missing in shapefile = 0\n"
     ]
    }
   ],
   "source": [
    "# Check for any further discrepancies in identifier values between shp and df.\n",
    "anymore_dst = []\n",
    "shp_diststate, diststate_counts = np.unique(shp['dist_state'], return_counts=True)\n",
    "\n",
    "for dst in df_diststate:\n",
    "    if dst not in shp_diststate:\n",
    "        anymore_dst.append(dst)\n",
    "print('Total no. of identifiers apparently missing in shapefile = %d'% (len(anymore_dst)))"
   ]
  },
  {
   "cell_type": "markdown",
   "id": "cc4b9c96",
   "metadata": {},
   "source": [
    "That's a relief. Let's now write the updated shape file to disk."
   ]
  },
  {
   "cell_type": "code",
   "execution_count": 20,
   "id": "e95c414e",
   "metadata": {},
   "outputs": [],
   "source": [
    "# Update district names in shapefile to match corresponding entries in crop yield data set.\n",
    "for diststate in shp_diststate:\n",
    "    shp.loc[shp['dist_state']==diststate, 'distname'] = diststate.split(',')[0]"
   ]
  },
  {
   "cell_type": "code",
   "execution_count": 21,
   "id": "47046de0",
   "metadata": {},
   "outputs": [],
   "source": [
    "shp.to_file('../Final_data/India_dld.shp')"
   ]
  }
 ],
 "metadata": {
  "kernelspec": {
   "display_name": "Python 3 (ipykernel)",
   "language": "python",
   "name": "python3"
  },
  "language_info": {
   "codemirror_mode": {
    "name": "ipython",
    "version": 3
   },
   "file_extension": ".py",
   "mimetype": "text/x-python",
   "name": "python",
   "nbconvert_exporter": "python",
   "pygments_lexer": "ipython3",
   "version": "3.9.7"
  }
 },
 "nbformat": 4,
 "nbformat_minor": 5
}
